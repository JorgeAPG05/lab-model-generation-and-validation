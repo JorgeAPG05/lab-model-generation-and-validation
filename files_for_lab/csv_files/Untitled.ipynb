{
 "cells": [
  {
   "cell_type": "code",
   "execution_count": 1,
   "id": "64dcbe39-1bd8-4788-905e-67eb89788994",
   "metadata": {
    "tags": []
   },
   "outputs": [],
   "source": [
    "import pandas as pd\n",
    "import numpy as np\n",
    "import matplotlib.pyplot as plt\n",
    "import seaborn as sns\n",
    "%matplotlib inline\n"
   ]
  },
  {
   "cell_type": "code",
   "execution_count": 2,
   "id": "c6cafb48-d87a-4398-b39e-e5eb3dd06320",
   "metadata": {
    "tags": []
   },
   "outputs": [],
   "source": [
    "import math"
   ]
  },
  {
   "cell_type": "code",
   "execution_count": 4,
   "id": "878ef2f3-cc79-4e45-b9cf-16a4699a55ac",
   "metadata": {
    "tags": []
   },
   "outputs": [
    {
     "data": {
      "text/html": [
       "<div>\n",
       "<style scoped>\n",
       "    .dataframe tbody tr th:only-of-type {\n",
       "        vertical-align: middle;\n",
       "    }\n",
       "\n",
       "    .dataframe tbody tr th {\n",
       "        vertical-align: top;\n",
       "    }\n",
       "\n",
       "    .dataframe thead th {\n",
       "        text-align: right;\n",
       "    }\n",
       "</style>\n",
       "<table border=\"1\" class=\"dataframe\">\n",
       "  <thead>\n",
       "    <tr style=\"text-align: right;\">\n",
       "      <th></th>\n",
       "      <th>Customer</th>\n",
       "      <th>State</th>\n",
       "      <th>Customer Lifetime Value</th>\n",
       "      <th>Response</th>\n",
       "      <th>Coverage</th>\n",
       "      <th>Education</th>\n",
       "      <th>Effective To Date</th>\n",
       "      <th>EmploymentStatus</th>\n",
       "      <th>Gender</th>\n",
       "      <th>Income</th>\n",
       "      <th>...</th>\n",
       "      <th>Months Since Policy Inception</th>\n",
       "      <th>Number of Open Complaints</th>\n",
       "      <th>Number of Policies</th>\n",
       "      <th>Policy Type</th>\n",
       "      <th>Policy</th>\n",
       "      <th>Renew Offer Type</th>\n",
       "      <th>Sales Channel</th>\n",
       "      <th>Total Claim Amount</th>\n",
       "      <th>Vehicle Class</th>\n",
       "      <th>Vehicle Size</th>\n",
       "    </tr>\n",
       "  </thead>\n",
       "  <tbody>\n",
       "    <tr>\n",
       "      <th>0</th>\n",
       "      <td>BU79786</td>\n",
       "      <td>Washington</td>\n",
       "      <td>2763.519279</td>\n",
       "      <td>No</td>\n",
       "      <td>Basic</td>\n",
       "      <td>Bachelor</td>\n",
       "      <td>2/24/11</td>\n",
       "      <td>Employed</td>\n",
       "      <td>F</td>\n",
       "      <td>56274</td>\n",
       "      <td>...</td>\n",
       "      <td>5</td>\n",
       "      <td>0</td>\n",
       "      <td>1</td>\n",
       "      <td>Corporate Auto</td>\n",
       "      <td>Corporate L3</td>\n",
       "      <td>Offer1</td>\n",
       "      <td>Agent</td>\n",
       "      <td>384.811147</td>\n",
       "      <td>Two-Door Car</td>\n",
       "      <td>Medsize</td>\n",
       "    </tr>\n",
       "    <tr>\n",
       "      <th>1</th>\n",
       "      <td>QZ44356</td>\n",
       "      <td>Arizona</td>\n",
       "      <td>6979.535903</td>\n",
       "      <td>No</td>\n",
       "      <td>Extended</td>\n",
       "      <td>Bachelor</td>\n",
       "      <td>1/31/11</td>\n",
       "      <td>Unemployed</td>\n",
       "      <td>F</td>\n",
       "      <td>0</td>\n",
       "      <td>...</td>\n",
       "      <td>42</td>\n",
       "      <td>0</td>\n",
       "      <td>8</td>\n",
       "      <td>Personal Auto</td>\n",
       "      <td>Personal L3</td>\n",
       "      <td>Offer3</td>\n",
       "      <td>Agent</td>\n",
       "      <td>1131.464935</td>\n",
       "      <td>Four-Door Car</td>\n",
       "      <td>Medsize</td>\n",
       "    </tr>\n",
       "    <tr>\n",
       "      <th>2</th>\n",
       "      <td>AI49188</td>\n",
       "      <td>Nevada</td>\n",
       "      <td>12887.431650</td>\n",
       "      <td>No</td>\n",
       "      <td>Premium</td>\n",
       "      <td>Bachelor</td>\n",
       "      <td>2/19/11</td>\n",
       "      <td>Employed</td>\n",
       "      <td>F</td>\n",
       "      <td>48767</td>\n",
       "      <td>...</td>\n",
       "      <td>38</td>\n",
       "      <td>0</td>\n",
       "      <td>2</td>\n",
       "      <td>Personal Auto</td>\n",
       "      <td>Personal L3</td>\n",
       "      <td>Offer1</td>\n",
       "      <td>Agent</td>\n",
       "      <td>566.472247</td>\n",
       "      <td>Two-Door Car</td>\n",
       "      <td>Medsize</td>\n",
       "    </tr>\n",
       "    <tr>\n",
       "      <th>3</th>\n",
       "      <td>WW63253</td>\n",
       "      <td>California</td>\n",
       "      <td>7645.861827</td>\n",
       "      <td>No</td>\n",
       "      <td>Basic</td>\n",
       "      <td>Bachelor</td>\n",
       "      <td>1/20/11</td>\n",
       "      <td>Unemployed</td>\n",
       "      <td>M</td>\n",
       "      <td>0</td>\n",
       "      <td>...</td>\n",
       "      <td>65</td>\n",
       "      <td>0</td>\n",
       "      <td>7</td>\n",
       "      <td>Corporate Auto</td>\n",
       "      <td>Corporate L2</td>\n",
       "      <td>Offer1</td>\n",
       "      <td>Call Center</td>\n",
       "      <td>529.881344</td>\n",
       "      <td>SUV</td>\n",
       "      <td>Medsize</td>\n",
       "    </tr>\n",
       "    <tr>\n",
       "      <th>4</th>\n",
       "      <td>HB64268</td>\n",
       "      <td>Washington</td>\n",
       "      <td>2813.692575</td>\n",
       "      <td>No</td>\n",
       "      <td>Basic</td>\n",
       "      <td>Bachelor</td>\n",
       "      <td>2/3/11</td>\n",
       "      <td>Employed</td>\n",
       "      <td>M</td>\n",
       "      <td>43836</td>\n",
       "      <td>...</td>\n",
       "      <td>44</td>\n",
       "      <td>0</td>\n",
       "      <td>1</td>\n",
       "      <td>Personal Auto</td>\n",
       "      <td>Personal L1</td>\n",
       "      <td>Offer1</td>\n",
       "      <td>Agent</td>\n",
       "      <td>138.130879</td>\n",
       "      <td>Four-Door Car</td>\n",
       "      <td>Medsize</td>\n",
       "    </tr>\n",
       "  </tbody>\n",
       "</table>\n",
       "<p>5 rows × 24 columns</p>\n",
       "</div>"
      ],
      "text/plain": [
       "  Customer       State  Customer Lifetime Value Response  Coverage Education  \\\n",
       "0  BU79786  Washington              2763.519279       No     Basic  Bachelor   \n",
       "1  QZ44356     Arizona              6979.535903       No  Extended  Bachelor   \n",
       "2  AI49188      Nevada             12887.431650       No   Premium  Bachelor   \n",
       "3  WW63253  California              7645.861827       No     Basic  Bachelor   \n",
       "4  HB64268  Washington              2813.692575       No     Basic  Bachelor   \n",
       "\n",
       "  Effective To Date EmploymentStatus Gender  Income  ...  \\\n",
       "0           2/24/11         Employed      F   56274  ...   \n",
       "1           1/31/11       Unemployed      F       0  ...   \n",
       "2           2/19/11         Employed      F   48767  ...   \n",
       "3           1/20/11       Unemployed      M       0  ...   \n",
       "4            2/3/11         Employed      M   43836  ...   \n",
       "\n",
       "  Months Since Policy Inception Number of Open Complaints  Number of Policies  \\\n",
       "0                             5                         0                   1   \n",
       "1                            42                         0                   8   \n",
       "2                            38                         0                   2   \n",
       "3                            65                         0                   7   \n",
       "4                            44                         0                   1   \n",
       "\n",
       "      Policy Type        Policy  Renew Offer Type  Sales Channel  \\\n",
       "0  Corporate Auto  Corporate L3            Offer1          Agent   \n",
       "1   Personal Auto   Personal L3            Offer3          Agent   \n",
       "2   Personal Auto   Personal L3            Offer1          Agent   \n",
       "3  Corporate Auto  Corporate L2            Offer1    Call Center   \n",
       "4   Personal Auto   Personal L1            Offer1          Agent   \n",
       "\n",
       "  Total Claim Amount  Vehicle Class Vehicle Size  \n",
       "0         384.811147   Two-Door Car      Medsize  \n",
       "1        1131.464935  Four-Door Car      Medsize  \n",
       "2         566.472247   Two-Door Car      Medsize  \n",
       "3         529.881344            SUV      Medsize  \n",
       "4         138.130879  Four-Door Car      Medsize  \n",
       "\n",
       "[5 rows x 24 columns]"
      ]
     },
     "execution_count": 4,
     "metadata": {},
     "output_type": "execute_result"
    }
   ],
   "source": [
    "data = pd.read_csv('marketing_customer_analysis.csv')\n",
    "data.head()"
   ]
  },
  {
   "cell_type": "code",
   "execution_count": null,
   "id": "e91ae7e4-2c87-4387-926d-779e9c1b4657",
   "metadata": {},
   "outputs": [],
   "source": [
    "'''Select the columns which are correlated with total_claim_amount and don't suffer from multicollinearity \n",
    "(see the previous lab"
   ]
  },
  {
   "cell_type": "code",
   "execution_count": 5,
   "id": "66871752-b265-4d02-ab84-afd92a25d225",
   "metadata": {
    "tags": []
   },
   "outputs": [],
   "source": [
    "data_corre= data[['Customer Lifetime Value', 'Monthly Premium Auto', 'Total Claim Amount']]"
   ]
  },
  {
   "cell_type": "code",
   "execution_count": 6,
   "id": "12462764-44ab-44dd-b441-d43e793237d4",
   "metadata": {
    "tags": []
   },
   "outputs": [
    {
     "data": {
      "text/html": [
       "<div>\n",
       "<style scoped>\n",
       "    .dataframe tbody tr th:only-of-type {\n",
       "        vertical-align: middle;\n",
       "    }\n",
       "\n",
       "    .dataframe tbody tr th {\n",
       "        vertical-align: top;\n",
       "    }\n",
       "\n",
       "    .dataframe thead th {\n",
       "        text-align: right;\n",
       "    }\n",
       "</style>\n",
       "<table border=\"1\" class=\"dataframe\">\n",
       "  <thead>\n",
       "    <tr style=\"text-align: right;\">\n",
       "      <th></th>\n",
       "      <th>Customer Lifetime Value</th>\n",
       "      <th>Monthly Premium Auto</th>\n",
       "      <th>Total Claim Amount</th>\n",
       "    </tr>\n",
       "  </thead>\n",
       "  <tbody>\n",
       "    <tr>\n",
       "      <th>0</th>\n",
       "      <td>2763.519279</td>\n",
       "      <td>69</td>\n",
       "      <td>384.811147</td>\n",
       "    </tr>\n",
       "    <tr>\n",
       "      <th>1</th>\n",
       "      <td>6979.535903</td>\n",
       "      <td>94</td>\n",
       "      <td>1131.464935</td>\n",
       "    </tr>\n",
       "    <tr>\n",
       "      <th>2</th>\n",
       "      <td>12887.431650</td>\n",
       "      <td>108</td>\n",
       "      <td>566.472247</td>\n",
       "    </tr>\n",
       "    <tr>\n",
       "      <th>3</th>\n",
       "      <td>7645.861827</td>\n",
       "      <td>106</td>\n",
       "      <td>529.881344</td>\n",
       "    </tr>\n",
       "    <tr>\n",
       "      <th>4</th>\n",
       "      <td>2813.692575</td>\n",
       "      <td>73</td>\n",
       "      <td>138.130879</td>\n",
       "    </tr>\n",
       "  </tbody>\n",
       "</table>\n",
       "</div>"
      ],
      "text/plain": [
       "   Customer Lifetime Value  Monthly Premium Auto  Total Claim Amount\n",
       "0              2763.519279                    69          384.811147\n",
       "1              6979.535903                    94         1131.464935\n",
       "2             12887.431650                   108          566.472247\n",
       "3              7645.861827                   106          529.881344\n",
       "4              2813.692575                    73          138.130879"
      ]
     },
     "execution_count": 6,
     "metadata": {},
     "output_type": "execute_result"
    }
   ],
   "source": [
    "data_corre.head()"
   ]
  },
  {
   "cell_type": "code",
   "execution_count": null,
   "id": "2690994e-8d40-49c2-885e-6654aa7e7635",
   "metadata": {},
   "outputs": [],
   "source": [
    "'''Remove outliers"
   ]
  },
  {
   "cell_type": "code",
   "execution_count": 7,
   "id": "a1d1309a-da83-4e81-b917-98986487da49",
   "metadata": {
    "tags": []
   },
   "outputs": [
    {
     "data": {
      "image/png": "[encoded data removed]",
      "text/plain": [
       "<Figure size 640x480 with 1 Axes>"
      ]
     },
     "metadata": {},
     "output_type": "display_data"
    }
   ],
   "source": [
    "sns.boxplot(x=data_corre['Customer Lifetime Value'])\n",
    "plt.show()\n"
   ]
  },
  {
   "cell_type": "code",
   "execution_count": 10,
   "id": "1638563d-4d97-42af-a4de-7f34cb5f2b4a",
   "metadata": {
    "tags": []
   },
   "outputs": [],
   "source": [
    "iqr1 = np.percentile(data_corre['Customer Lifetime Value'],75) - np.percentile(data_corre['Customer Lifetime Value'],25)\n",
    "upper_wisker1 = np.percentile(data_corre['Customer Lifetime Value'],75) + 1.5*iqr1\n",
    "lower_wisker1 = np.percentile(data_corre['Customer Lifetime Value'],25) - 1.5*iqr1"
   ]
  },
  {
   "cell_type": "code",
   "execution_count": 16,
   "id": "ec3c3776-2691-41c6-b296-0bf1bc763fe3",
   "metadata": {
    "tags": []
   },
   "outputs": [],
   "source": [
    "data_corre = data_corre[(data_corre['Customer Lifetime Value']>lower_wisker1) & (data_corre['Customer Lifetime Value']<upper_wisker1)]"
   ]
  },
  {
   "cell_type": "code",
   "execution_count": 12,
   "id": "03975e75-8f75-48ef-97b1-3eb42942b9dd",
   "metadata": {
    "tags": []
   },
   "outputs": [
    {
     "data": {
      "image/png": "[encoded data removed]",
      "text/plain": [
       "<Figure size 640x480 with 1 Axes>"
      ]
     },
     "metadata": {},
     "output_type": "display_data"
    }
   ],
   "source": [
    "sns.boxplot(x=data_corre['Customer Lifetime Value'])\n",
    "plt.show()\n"
   ]
  },
  {
   "cell_type": "code",
   "execution_count": 18,
   "id": "8ade58bb-a857-44f0-87d0-699e04f7619f",
   "metadata": {
    "tags": []
   },
   "outputs": [],
   "source": [
    "iqr2 = np.percentile(data_corre['Monthly Premium Auto'],75) - np.percentile(data_corre['Monthly Premium Auto'],25)\n",
    "upper_wisker2 = np.percentile(data_corre['Monthly Premium Auto'],75) + 1.5*iqr2\n",
    "lower_wisker2 = np.percentile(data_corre['Monthly Premium Auto'],25) - 1.5*iqr2\n",
    "data_corre = data_corre[(data_corre['Monthly Premium Auto']>lower_wisker2) & (data_corre['Monthly Premium Auto']<upper_wisker2)]"
   ]
  },
  {
   "cell_type": "code",
   "execution_count": 19,
   "id": "1a938add-685f-475c-b7c6-6f6a525b8517",
   "metadata": {
    "tags": []
   },
   "outputs": [],
   "source": [
    "iqr3 = np.percentile(data_corre['Total Claim Amount'],75) - np.percentile(data_corre['Total Claim Amount'],25)\n",
    "upper_wisker3 = np.percentile(data_corre['Total Claim Amount'],75) + 1.5*iqr3\n",
    "lower_wisker3 = np.percentile(data_corre['Total Claim Amount'],25) - 1.5*iqr3\n",
    "data_corre = data_corre[(data_corre['Total Claim Amount']>lower_wisker3) & (data_corre['Total Claim Amount']<upper_wisker3)]"
   ]
  },
  {
   "cell_type": "code",
   "execution_count": null,
   "id": "cea46f33-732b-4664-bdd4-614dd2304e68",
   "metadata": {},
   "outputs": [],
   "source": [
    "'''X-y split. (define which column you want to predict, and which ones you will use to make the prediction)"
   ]
  },
  {
   "cell_type": "code",
   "execution_count": 24,
   "id": "7d9a9a05-725a-4314-9026-a62f0d8184d9",
   "metadata": {
    "tags": []
   },
   "outputs": [],
   "source": [
    "y = data_corre['Customer Lifetime Value']\n",
    "X = data_corre[['Total Claim Amount','Monthly Premium Auto']]"
   ]
  },
  {
   "cell_type": "code",
   "execution_count": 25,
   "id": "3af0466e-474f-49be-b576-4d27ee9a56b4",
   "metadata": {
    "tags": []
   },
   "outputs": [
    {
     "data": {
      "text/plain": [
       "pandas.core.series.Series"
      ]
     },
     "execution_count": 25,
     "metadata": {},
     "output_type": "execute_result"
    }
   ],
   "source": [
    "type(y)"
   ]
  },
  {
   "cell_type": "code",
   "execution_count": 26,
   "id": "11c50f23-af7a-4637-81e6-44c313c1c488",
   "metadata": {
    "tags": []
   },
   "outputs": [
    {
     "data": {
      "text/plain": [
       "pandas.core.frame.DataFrame"
      ]
     },
     "execution_count": 26,
     "metadata": {},
     "output_type": "execute_result"
    }
   ],
   "source": [
    "type(X)"
   ]
  },
  {
   "cell_type": "code",
   "execution_count": 27,
   "id": "ea6225ad-8da8-4e00-8043-c2fab1f3aec0",
   "metadata": {
    "tags": []
   },
   "outputs": [
    {
     "name": "stdout",
     "output_type": "stream",
     "text": [
      "897.2068903004119\n",
      "[-0.64101626 63.2314648 ]\n"
     ]
    }
   ],
   "source": [
    "from sklearn.linear_model import LinearRegression\n",
    "lm = LinearRegression()\n",
    "lm.fit(X,y) \n",
    "print(lm.intercept_) \n",
    "print(lm.coef_)"
   ]
  },
  {
   "cell_type": "code",
   "execution_count": 28,
   "id": "f0623360-cf0c-4554-98d5-a684f10225b2",
   "metadata": {
    "tags": []
   },
   "outputs": [
    {
     "data": {
      "text/plain": [
       "array([5013.50776016, 7363.08716888, 7260.07960299, ..., 5764.97536786,\n",
       "       6524.35707381, 5529.11007109])"
      ]
     },
     "execution_count": 28,
     "metadata": {},
     "output_type": "execute_result"
    }
   ],
   "source": [
    "lm.predict(X)"
   ]
  },
  {
   "cell_type": "code",
   "execution_count": 29,
   "id": "72957ef9-c5be-4fe5-b4a2-3b4de8e55ade",
   "metadata": {
    "tags": []
   },
   "outputs": [
    {
     "data": {
      "text/html": [
       "<div>\n",
       "<style scoped>\n",
       "    .dataframe tbody tr th:only-of-type {\n",
       "        vertical-align: middle;\n",
       "    }\n",
       "\n",
       "    .dataframe tbody tr th {\n",
       "        vertical-align: top;\n",
       "    }\n",
       "\n",
       "    .dataframe thead th {\n",
       "        text-align: right;\n",
       "    }\n",
       "</style>\n",
       "<table border=\"1\" class=\"dataframe\">\n",
       "  <thead>\n",
       "    <tr style=\"text-align: right;\">\n",
       "      <th></th>\n",
       "      <th>count</th>\n",
       "      <th>mean</th>\n",
       "      <th>std</th>\n",
       "      <th>min</th>\n",
       "      <th>25%</th>\n",
       "      <th>50%</th>\n",
       "      <th>75%</th>\n",
       "      <th>max</th>\n",
       "    </tr>\n",
       "  </thead>\n",
       "  <tbody>\n",
       "    <tr>\n",
       "      <th>Total Claim Amount</th>\n",
       "      <td>7784.0</td>\n",
       "      <td>378.992988</td>\n",
       "      <td>200.015141</td>\n",
       "      <td>0.099007</td>\n",
       "      <td>253.151853</td>\n",
       "      <td>355.2</td>\n",
       "      <td>513.533318</td>\n",
       "      <td>921.6</td>\n",
       "    </tr>\n",
       "    <tr>\n",
       "      <th>Monthly Premium Auto</th>\n",
       "      <td>7784.0</td>\n",
       "      <td>85.823356</td>\n",
       "      <td>21.636895</td>\n",
       "      <td>61.000000</td>\n",
       "      <td>68.000000</td>\n",
       "      <td>77.0</td>\n",
       "      <td>103.000000</td>\n",
       "      <td>160.0</td>\n",
       "    </tr>\n",
       "  </tbody>\n",
       "</table>\n",
       "</div>"
      ],
      "text/plain": [
       "                       count        mean         std        min         25%  \\\n",
       "Total Claim Amount    7784.0  378.992988  200.015141   0.099007  253.151853   \n",
       "Monthly Premium Auto  7784.0   85.823356   21.636895  61.000000   68.000000   \n",
       "\n",
       "                        50%         75%    max  \n",
       "Total Claim Amount    355.2  513.533318  921.6  \n",
       "Monthly Premium Auto   77.0  103.000000  160.0  "
      ]
     },
     "execution_count": 29,
     "metadata": {},
     "output_type": "execute_result"
    }
   ],
   "source": [
    "X.describe().T"
   ]
  },
  {
   "cell_type": "code",
   "execution_count": null,
   "id": "871a9bef-2f70-490d-816d-62dffa020f7c",
   "metadata": {},
   "outputs": [],
   "source": [
    "'''Use the Train-test split to create the Train, and Test sets \n",
    "(make sure to set the random_state option to any integer number of your choice).\n",
    "Use the pd.DataFrame() function to create new Pandas DataFrames from the X_train, \n",
    "and X_test Numpy arrays obtained in the previous step \n",
    "(make sure to use the columns= option to set the columns names to X.columns)."
   ]
  },
  {
   "cell_type": "code",
   "execution_count": 30,
   "id": "61750350-cd00-4e5f-b0c4-5478a68483db",
   "metadata": {
    "tags": []
   },
   "outputs": [],
   "source": [
    "from sklearn.model_selection import train_test_split\n",
    "\n",
    "X_train, X_test, y_train, y_test = train_test_split(X, y, test_size=0.2, random_state=50)\n",
    "X_train_df = pd.DataFrame(X_train, columns = X.columns)\n",
    "X_test_df  = pd.DataFrame(X_test,  columns = X.columns)"
   ]
  },
  {
   "cell_type": "code",
   "execution_count": 32,
   "id": "b88cbea9-aac4-44a7-ae84-cf7b2c393a33",
   "metadata": {
    "tags": []
   },
   "outputs": [
    {
     "data": {
      "text/html": [
       "<div>\n",
       "<style scoped>\n",
       "    .dataframe tbody tr th:only-of-type {\n",
       "        vertical-align: middle;\n",
       "    }\n",
       "\n",
       "    .dataframe tbody tr th {\n",
       "        vertical-align: top;\n",
       "    }\n",
       "\n",
       "    .dataframe thead th {\n",
       "        text-align: right;\n",
       "    }\n",
       "</style>\n",
       "<table border=\"1\" class=\"dataframe\">\n",
       "  <thead>\n",
       "    <tr style=\"text-align: right;\">\n",
       "      <th></th>\n",
       "      <th>Total Claim Amount</th>\n",
       "      <th>Monthly Premium Auto</th>\n",
       "    </tr>\n",
       "  </thead>\n",
       "  <tbody>\n",
       "    <tr>\n",
       "      <th>0</th>\n",
       "      <td>0.671739</td>\n",
       "      <td>0.252525</td>\n",
       "    </tr>\n",
       "    <tr>\n",
       "      <th>1</th>\n",
       "      <td>0.054212</td>\n",
       "      <td>0.383838</td>\n",
       "    </tr>\n",
       "    <tr>\n",
       "      <th>2</th>\n",
       "      <td>0.957960</td>\n",
       "      <td>0.383838</td>\n",
       "    </tr>\n",
       "    <tr>\n",
       "      <th>3</th>\n",
       "      <td>0.305021</td>\n",
       "      <td>0.010101</td>\n",
       "    </tr>\n",
       "    <tr>\n",
       "      <th>4</th>\n",
       "      <td>0.489372</td>\n",
       "      <td>0.333333</td>\n",
       "    </tr>\n",
       "  </tbody>\n",
       "</table>\n",
       "</div>"
      ],
      "text/plain": [
       "   Total Claim Amount  Monthly Premium Auto\n",
       "0            0.671739              0.252525\n",
       "1            0.054212              0.383838\n",
       "2            0.957960              0.383838\n",
       "3            0.305021              0.010101\n",
       "4            0.489372              0.333333"
      ]
     },
     "execution_count": 32,
     "metadata": {},
     "output_type": "execute_result"
    }
   ],
   "source": [
    "import pickle\n",
    "from sklearn.preprocessing import MinMaxScaler \n",
    "\n",
    "scaler = MinMaxScaler()\n",
    "\n",
    "scaler.fit(X_train_df) \n",
    "\n",
    "path = \"./\"\n",
    "scaler_file_name = \"min_max_scalerlab.pkl\"\n",
    "\n",
    "with open(path + scaler_file_name, \"wb\") as file:\n",
    "    pickle.dump(scaler, file)\n",
    "\n",
    "X_train_scaled = scaler.transform(X_train_df) \n",
    "X_test_scaled  = scaler.transform(X_test_df) \n",
    "\n",
    "\n",
    "\n",
    "X_train_scaled_df = pd.DataFrame(X_train_scaled, columns=X.columns)\n",
    "X_test_scaled_df  = pd.DataFrame(X_test_scaled,  columns=X.columns)\n",
    "\n",
    "X_train_scaled_df.head()"
   ]
  },
  {
   "cell_type": "code",
   "execution_count": 33,
   "id": "b1ee42fa-636c-4c7d-bc86-a14def48ef18",
   "metadata": {
    "tags": []
   },
   "outputs": [
    {
     "data": {
      "text/html": [
       "<div>\n",
       "<style scoped>\n",
       "    .dataframe tbody tr th:only-of-type {\n",
       "        vertical-align: middle;\n",
       "    }\n",
       "\n",
       "    .dataframe tbody tr th {\n",
       "        vertical-align: top;\n",
       "    }\n",
       "\n",
       "    .dataframe thead th {\n",
       "        text-align: right;\n",
       "    }\n",
       "</style>\n",
       "<table border=\"1\" class=\"dataframe\">\n",
       "  <thead>\n",
       "    <tr style=\"text-align: right;\">\n",
       "      <th></th>\n",
       "      <th>count</th>\n",
       "      <th>mean</th>\n",
       "      <th>std</th>\n",
       "      <th>min</th>\n",
       "      <th>25%</th>\n",
       "      <th>50%</th>\n",
       "      <th>75%</th>\n",
       "      <th>max</th>\n",
       "    </tr>\n",
       "  </thead>\n",
       "  <tbody>\n",
       "    <tr>\n",
       "      <th>Total Claim Amount</th>\n",
       "      <td>6227.0</td>\n",
       "      <td>0.411779</td>\n",
       "      <td>0.217843</td>\n",
       "      <td>0.0</td>\n",
       "      <td>0.274214</td>\n",
       "      <td>0.385162</td>\n",
       "      <td>0.557108</td>\n",
       "      <td>1.0</td>\n",
       "    </tr>\n",
       "    <tr>\n",
       "      <th>Monthly Premium Auto</th>\n",
       "      <td>6227.0</td>\n",
       "      <td>0.251035</td>\n",
       "      <td>0.218409</td>\n",
       "      <td>0.0</td>\n",
       "      <td>0.070707</td>\n",
       "      <td>0.171717</td>\n",
       "      <td>0.424242</td>\n",
       "      <td>1.0</td>\n",
       "    </tr>\n",
       "  </tbody>\n",
       "</table>\n",
       "</div>"
      ],
      "text/plain": [
       "                       count      mean       std  min       25%       50%  \\\n",
       "Total Claim Amount    6227.0  0.411779  0.217843  0.0  0.274214  0.385162   \n",
       "Monthly Premium Auto  6227.0  0.251035  0.218409  0.0  0.070707  0.171717   \n",
       "\n",
       "                           75%  max  \n",
       "Total Claim Amount    0.557108  1.0  \n",
       "Monthly Premium Auto  0.424242  1.0  "
      ]
     },
     "execution_count": 33,
     "metadata": {},
     "output_type": "execute_result"
    }
   ],
   "source": [
    "X_train_scaled_df.describe().T"
   ]
  },
  {
   "cell_type": "code",
   "execution_count": 34,
   "id": "c14c609f-e2a4-4bd3-9e64-3e1f7cb137bf",
   "metadata": {
    "tags": []
   },
   "outputs": [],
   "source": [
    "from sklearn.linear_model import LinearRegression\n",
    "\n",
    "linear_model = LinearRegression()\n",
    "linear_model.fit(X_train_scaled_df, y_train) \n",
    "\n",
    "path = \"./\"\n",
    "model_file_name = \"linear_modellab.pkl\"\n",
    "\n",
    "with open(path + scaler_file_name, \"wb\") as file:\n",
    "    pickle.dump(linear_model, file)"
   ]
  },
  {
   "cell_type": "code",
   "execution_count": 35,
   "id": "5d57016c-9464-4812-b989-962ebecfe85f",
   "metadata": {
    "tags": []
   },
   "outputs": [],
   "source": [
    "y_train_pred = linear_model.predict(X_train_scaled_df)\n",
    "y_test_pred  = linear_model.predict(X_test_scaled_df)"
   ]
  },
  {
   "cell_type": "code",
   "execution_count": 37,
   "id": "80e3733e-2ae9-498c-9814-cba0843c3ec3",
   "metadata": {
    "tags": []
   },
   "outputs": [
    {
     "data": {
      "text/html": [
       "<div>\n",
       "<style scoped>\n",
       "    .dataframe tbody tr th:only-of-type {\n",
       "        vertical-align: middle;\n",
       "    }\n",
       "\n",
       "    .dataframe tbody tr th {\n",
       "        vertical-align: top;\n",
       "    }\n",
       "\n",
       "    .dataframe thead th {\n",
       "        text-align: right;\n",
       "    }\n",
       "</style>\n",
       "<table border=\"1\" class=\"dataframe\">\n",
       "  <thead>\n",
       "    <tr style=\"text-align: right;\">\n",
       "      <th></th>\n",
       "      <th>Set</th>\n",
       "      <th>Real</th>\n",
       "      <th>Predicted</th>\n",
       "    </tr>\n",
       "  </thead>\n",
       "  <tbody>\n",
       "    <tr>\n",
       "      <th>0</th>\n",
       "      <td>Train</td>\n",
       "      <td>5337.352409</td>\n",
       "      <td>5894.634344</td>\n",
       "    </tr>\n",
       "    <tr>\n",
       "      <th>1</th>\n",
       "      <td>Train</td>\n",
       "      <td>11895.181880</td>\n",
       "      <td>7140.935679</td>\n",
       "    </tr>\n",
       "    <tr>\n",
       "      <th>2</th>\n",
       "      <td>Train</td>\n",
       "      <td>3939.006370</td>\n",
       "      <td>6502.800292</td>\n",
       "    </tr>\n",
       "    <tr>\n",
       "      <th>3</th>\n",
       "      <td>Train</td>\n",
       "      <td>7409.586372</td>\n",
       "      <td>4657.697399</td>\n",
       "    </tr>\n",
       "    <tr>\n",
       "      <th>4</th>\n",
       "      <td>Train</td>\n",
       "      <td>3755.806897</td>\n",
       "      <td>6522.029051</td>\n",
       "    </tr>\n",
       "  </tbody>\n",
       "</table>\n",
       "</div>"
      ],
      "text/plain": [
       "     Set          Real    Predicted\n",
       "0  Train   5337.352409  5894.634344\n",
       "1  Train  11895.181880  7140.935679\n",
       "2  Train   3939.006370  6502.800292\n",
       "3  Train   7409.586372  4657.697399\n",
       "4  Train   3755.806897  6522.029051"
      ]
     },
     "execution_count": 37,
     "metadata": {},
     "output_type": "execute_result"
    }
   ],
   "source": [
    "results = {\"Set\": [\"Train\"]*X_train.shape[0] + [\"Test\"]*X_test.shape[0], \n",
    "           \"Real\": list(y_train) + list(y_test),\n",
    "           \"Predicted\": list(y_train_pred) + list(y_test_pred)}\n",
    "\n",
    "results_df = pd.DataFrame(results)\n",
    "results_df.head()"
   ]
  },
  {
   "cell_type": "code",
   "execution_count": 38,
   "id": "f67f05ee-218a-4566-b631-2e79c4d2c67f",
   "metadata": {
    "tags": []
   },
   "outputs": [
    {
     "data": {
      "text/html": [
       "<div>\n",
       "<style scoped>\n",
       "    .dataframe tbody tr th:only-of-type {\n",
       "        vertical-align: middle;\n",
       "    }\n",
       "\n",
       "    .dataframe tbody tr th {\n",
       "        vertical-align: top;\n",
       "    }\n",
       "\n",
       "    .dataframe thead th {\n",
       "        text-align: right;\n",
       "    }\n",
       "</style>\n",
       "<table border=\"1\" class=\"dataframe\">\n",
       "  <thead>\n",
       "    <tr style=\"text-align: right;\">\n",
       "      <th></th>\n",
       "      <th>Set</th>\n",
       "      <th>Real</th>\n",
       "      <th>Predicted</th>\n",
       "      <th>Errors</th>\n",
       "    </tr>\n",
       "  </thead>\n",
       "  <tbody>\n",
       "    <tr>\n",
       "      <th>0</th>\n",
       "      <td>Train</td>\n",
       "      <td>5337.352409</td>\n",
       "      <td>5894.634344</td>\n",
       "      <td>-557.281935</td>\n",
       "    </tr>\n",
       "    <tr>\n",
       "      <th>1</th>\n",
       "      <td>Train</td>\n",
       "      <td>11895.181880</td>\n",
       "      <td>7140.935679</td>\n",
       "      <td>4754.246201</td>\n",
       "    </tr>\n",
       "    <tr>\n",
       "      <th>2</th>\n",
       "      <td>Train</td>\n",
       "      <td>3939.006370</td>\n",
       "      <td>6502.800292</td>\n",
       "      <td>-2563.793922</td>\n",
       "    </tr>\n",
       "    <tr>\n",
       "      <th>3</th>\n",
       "      <td>Train</td>\n",
       "      <td>7409.586372</td>\n",
       "      <td>4657.697399</td>\n",
       "      <td>2751.888973</td>\n",
       "    </tr>\n",
       "    <tr>\n",
       "      <th>4</th>\n",
       "      <td>Train</td>\n",
       "      <td>3755.806897</td>\n",
       "      <td>6522.029051</td>\n",
       "      <td>-2766.222154</td>\n",
       "    </tr>\n",
       "  </tbody>\n",
       "</table>\n",
       "</div>"
      ],
      "text/plain": [
       "     Set          Real    Predicted       Errors\n",
       "0  Train   5337.352409  5894.634344  -557.281935\n",
       "1  Train  11895.181880  7140.935679  4754.246201\n",
       "2  Train   3939.006370  6502.800292 -2563.793922\n",
       "3  Train   7409.586372  4657.697399  2751.888973\n",
       "4  Train   3755.806897  6522.029051 -2766.222154"
      ]
     },
     "execution_count": 38,
     "metadata": {},
     "output_type": "execute_result"
    }
   ],
   "source": [
    "results_df['Errors'] = results_df['Real'] - results_df['Predicted']\n",
    "results_df.head()"
   ]
  },
  {
   "cell_type": "code",
   "execution_count": 39,
   "id": "51253896-a461-4516-8315-2b4d243f00a6",
   "metadata": {
    "tags": []
   },
   "outputs": [
    {
     "data": {
      "image/png": "[encoded data removed]",
      "text/plain": [
       "<Figure size 1000x500 with 2 Axes>"
      ]
     },
     "metadata": {},
     "output_type": "display_data"
    }
   ],
   "source": [
    "fig, ax = plt.subplots(1,2, figsize=(10,5))\n",
    "\n",
    "sns.scatterplot(results_df, x=\"Real\", y=\"Predicted\", hue=\"Set\", ax=ax[0])\n",
    "sns.lineplot(results_df, x=\"Real\", y=\"Real\", color=\"black\", ax=ax[0])\n",
    "ax[0].set_title(\"Predicted vs real\")\n",
    "sns.histplot(results_df, x=\"Errors\", bins=50, hue=\"Set\", ax=ax[1])\n",
    "ax[1].set_title(\"Histogram of residuals\")\n",
    "\n",
    "plt.tight_layout()\n",
    "plt.show()"
   ]
  },
  {
   "cell_type": "code",
   "execution_count": 41,
   "id": "c782c3c2-fda0-43e1-8fb1-1f925896aa1c",
   "metadata": {
    "tags": []
   },
   "outputs": [],
   "source": [
    "from sklearn.metrics import mean_absolute_error, mean_squared_error, r2_score\n",
    "\n"
   ]
  },
  {
   "cell_type": "code",
   "execution_count": 42,
   "id": "fe225313-416f-4900-9fc3-9c548e37324d",
   "metadata": {
    "tags": []
   },
   "outputs": [],
   "source": [
    "def error_metrics_report(y_real_train: list, y_real_test: list, y_pred_train: list, y_pred_test: list) -> pd.DataFrame:\n",
    "   \n",
    "\n",
    "    MAE_train = mean_absolute_error(y_real_train, y_pred_train)\n",
    "    MAE_test  = mean_absolute_error(y_real_test, y_pred_test)\n",
    "\n",
    "    \n",
    "    MSE_train = mean_squared_error(y_real_train, y_pred_train)\n",
    "    MSE_test  = mean_squared_error(y_real_test, y_pred_test)\n",
    "\n",
    "    \n",
    "    RMSE_train = mean_squared_error(y_real_train, y_pred_train, squared=False)\n",
    "    RMSE_test  = mean_squared_error(y_real_test, y_pred_test, squared=False)\n",
    "\n",
    "   \n",
    "    R2_train = r2_score(y_real_train, y_pred_train)\n",
    "    R2_test  = r2_score(y_real_test, y_pred_test)\n",
    "\n",
    "    results = {\"Metric\": ['MAE', 'MSE', 'RMSE', 'R2'], \n",
    "               \"Train\": [MAE_train, MSE_train, RMSE_train, R2_train],\n",
    "               \"Test\":  [MAE_test, MSE_test, RMSE_test, R2_test]}\n",
    "\n",
    "    results_df = pd.DataFrame(results).round(2)\n",
    "\n",
    "    return results_df"
   ]
  },
  {
   "cell_type": "code",
   "execution_count": 43,
   "id": "e8d417da-c557-4f0a-acca-67f01f19ea74",
   "metadata": {
    "tags": []
   },
   "outputs": [
    {
     "data": {
      "text/html": [
       "<div>\n",
       "<style scoped>\n",
       "    .dataframe tbody tr th:only-of-type {\n",
       "        vertical-align: middle;\n",
       "    }\n",
       "\n",
       "    .dataframe tbody tr th {\n",
       "        vertical-align: top;\n",
       "    }\n",
       "\n",
       "    .dataframe thead th {\n",
       "        text-align: right;\n",
       "    }\n",
       "</style>\n",
       "<table border=\"1\" class=\"dataframe\">\n",
       "  <thead>\n",
       "    <tr style=\"text-align: right;\">\n",
       "      <th></th>\n",
       "      <th>Metric</th>\n",
       "      <th>Train</th>\n",
       "      <th>Test</th>\n",
       "    </tr>\n",
       "  </thead>\n",
       "  <tbody>\n",
       "    <tr>\n",
       "      <th>0</th>\n",
       "      <td>MAE</td>\n",
       "      <td>2171.07</td>\n",
       "      <td>2193.56</td>\n",
       "    </tr>\n",
       "    <tr>\n",
       "      <th>1</th>\n",
       "      <td>MSE</td>\n",
       "      <td>7909350.26</td>\n",
       "      <td>8211121.79</td>\n",
       "    </tr>\n",
       "    <tr>\n",
       "      <th>2</th>\n",
       "      <td>RMSE</td>\n",
       "      <td>2812.36</td>\n",
       "      <td>2865.51</td>\n",
       "    </tr>\n",
       "    <tr>\n",
       "      <th>3</th>\n",
       "      <td>R2</td>\n",
       "      <td>0.17</td>\n",
       "      <td>0.20</td>\n",
       "    </tr>\n",
       "  </tbody>\n",
       "</table>\n",
       "</div>"
      ],
      "text/plain": [
       "  Metric       Train        Test\n",
       "0    MAE     2171.07     2193.56\n",
       "1    MSE  7909350.26  8211121.79\n",
       "2   RMSE     2812.36     2865.51\n",
       "3     R2        0.17        0.20"
      ]
     },
     "execution_count": 43,
     "metadata": {},
     "output_type": "execute_result"
    }
   ],
   "source": [
    "error_metrics_report(list(results_df[results_df[\"Set\"]==\"Train\"][\"Real\"]),\n",
    "                     list(results_df[results_df[\"Set\"]==\"Test\"][\"Real\"]),\n",
    "                     list(results_df[results_df[\"Set\"]==\"Train\"][\"Predicted\"]),\n",
    "                     list(results_df[results_df[\"Set\"]==\"Test\"][\"Predicted\"]))"
   ]
  },
  {
   "cell_type": "code",
   "execution_count": null,
   "id": "c7543fe0-7a3d-43ba-a8c2-2ccd090b1d07",
   "metadata": {},
   "outputs": [],
   "source": []
  }
 ],
 "metadata": {
  "kernelspec": {
   "display_name": "Python 3 (ipykernel)",
   "language": "python",
   "name": "python3"
  },
  "language_info": {
   "codemirror_mode": {
    "name": "ipython",
    "version": 3
   },
   "file_extension": ".py",
   "mimetype": "text/x-python",
   "name": "python",
   "nbconvert_exporter": "python",
   "pygments_lexer": "ipython3",
   "version": "3.11.5"
  }
 },
 "nbformat": 4,
 "nbformat_minor": 5
}
